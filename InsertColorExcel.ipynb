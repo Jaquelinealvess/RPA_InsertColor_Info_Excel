{
 "cells": [
  {
   "cell_type": "code",
   "execution_count": 5,
   "id": "c90f9182",
   "metadata": {},
   "outputs": [],
   "source": [
    "# Inserindo informações com append\n",
    "from openpyxl import load_workbook\n",
    "import os \n",
    "\n",
    "from openpyxl.styles import Color, PatternFill, Font, Border, Side\n",
    "from openpyxl.styles import colors\n",
    "from openpyxl.cell import Cell\n",
    "\n",
    "\n",
    "# abrindo arquivo excel\n",
    "caminho_nome_arquivo = \"C:\\\\Users\\\\jasantos\\\\Curso RPA\\\\RPA_InsertColor_Info_Excel\\\\InserirDadosPintarCelulas.xlsx\"\n",
    "planilha_aberta = load_workbook(filename=caminho_nome_arquivo)\n",
    "\n",
    "# seleciona a sheet com nome Aluno\n",
    "sheet_selecionada = planilha_aberta['Aluno']\n",
    "\n",
    "# populando as informações que vão para a planilha\n",
    "dadosTabela = [\n",
    "    ['Nome', 'Idade'],\n",
    "    ['Berenice', 28],\n",
    "    ['Caio', 32],\n",
    "    ['Nicole', 34],\n",
    "    ['Leonardo', 19],\n",
    "    ['Amanda', 25]    \n",
    "]\n",
    "\n",
    "# O append pega toda a lista e passa a sheet Aluno 'os dados da variavel dadosTabela'\n",
    "for linhaPlanilha in dadosTabela: \n",
    "    sheet_selecionada.append(linhaPlanilha)\n",
    "    \n",
    "\n",
    "corTitulo = PatternFill(start_color='00FFFF00',\n",
    "                      end_color='00FFFF00',\n",
    "                      fill_type='solid')\n",
    "\n",
    "corCelulas = PatternFill(start_color='00CCFFCC',\n",
    "                      end_color='00CCFFCC',\n",
    "                      fill_type='solid')\n",
    "\n",
    "sheet_selecionada[\"A1\"].fill = corTitulo\n",
    "sheet_selecionada[\"B1\"].fill = corTitulo\n",
    "\n",
    "# da linha 2 a 5 \n",
    "for linha in range(2, len(sheet_selecionada['A']) + 1):\n",
    "    celulaColunaA = \"A\" + str(linha)\n",
    "    celulaColunaB = \"B\" + str(linha)\n",
    "\n",
    "    sheet_selecionada[celulaColunaA].fill = corCelulas\n",
    "    sheet_selecionada[celulaColunaB].fill = corCelulas\n",
    "    \n",
    "\n",
    "# salva a planilha com as alterações\n",
    "planilha_aberta.save(filename=caminho_nome_arquivo)\n",
    "\n",
    "# abre a planilha\n",
    "os.startfile(caminho_nome_arquivo) \n"
   ]
  },
  {
   "cell_type": "code",
   "execution_count": null,
   "id": "b2962610",
   "metadata": {},
   "outputs": [],
   "source": []
  }
 ],
 "metadata": {
  "kernelspec": {
   "display_name": "Python 3 (ipykernel)",
   "language": "python",
   "name": "python3"
  },
  "language_info": {
   "codemirror_mode": {
    "name": "ipython",
    "version": 3
   },
   "file_extension": ".py",
   "mimetype": "text/x-python",
   "name": "python",
   "nbconvert_exporter": "python",
   "pygments_lexer": "ipython3",
   "version": "3.9.12"
  }
 },
 "nbformat": 4,
 "nbformat_minor": 5
}
